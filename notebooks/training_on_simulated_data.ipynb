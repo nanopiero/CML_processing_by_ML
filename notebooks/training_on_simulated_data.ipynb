{
  "cells": [
    {
      "cell_type": "code",
      "execution_count": 1,
      "id": "cf3477e5-ac2b-4cf8-9de3-e95782130327",
      "metadata": {
        "id": "cf3477e5-ac2b-4cf8-9de3-e95782130327",
        "scrolled": true,
        "outputId": "536943a1-b84c-416e-84e9-1d773de75df1",
        "colab": {
          "base_uri": "https://localhost:8080/"
        }
      },
      "outputs": [
        {
          "output_type": "stream",
          "name": "stdout",
          "text": [
            "fatal: destination path 'CML_processing_by_ML' already exists and is not an empty directory.\n"
          ]
        }
      ],
      "source": [
        "# Local clone\n",
        "! git clone https://github.com/nanopiero/CML_processing_by_ML.git"
      ]
    },
    {
      "cell_type": "code",
      "execution_count": 2,
      "id": "0u1PXBYMSD-f",
      "metadata": {
        "id": "0u1PXBYMSD-f"
      },
      "outputs": [],
      "source": [
        "# Imports\n",
        "from os.path import join, isdir, isfile\n",
        "from os import listdir as ls\n",
        "import copy\n",
        "import torch\n",
        "import numpy as np\n",
        "\n",
        "import sys\n",
        "sys.path.append('CML_processing_by_ML')\n",
        "from src.utils.simulation import create_dataloader\n",
        "import src.utils.architectures_fcn\n",
        "from src.utils.architectures import load_archi\n",
        "from src.utils.architectures_fcn import UNet_causal_5mn_atrous, UNet_causal_5mn_atrous_rescale"
      ]
    },
    {
      "cell_type": "code",
      "execution_count": 3,
      "id": "iywu4Uq-e2rx",
      "metadata": {
        "id": "iywu4Uq-e2rx"
      },
      "outputs": [],
      "source": [
        "# Dictionary with pseudo \"distances\" (distances between two antennnas) for 1,000 pseudo CML ids.\n",
        "idx2distance = {i: 0.2 +  1.8 * torch.rand((1,)).item() for i in range(0, 1000)}\n",
        "duration = 4096  # Duration for each tensor pair\n",
        "batch_size = 100  # Number of samples per batch\n",
        "dataloader = create_dataloader(duration, idx2distance, batch_size)"
      ]
    },
    {
      "cell_type": "code",
      "execution_count": 4,
      "id": "789fdbdd-33b7-4447-a26a-cc4a4ff3a10d",
      "metadata": {
        "id": "789fdbdd-33b7-4447-a26a-cc4a4ff3a10d"
      },
      "outputs": [],
      "source": [
        "# Here we samples 64 ground-truth rainy processes and their noisy counterpart\n",
        "# A rainy process is modeled by a 1-d Neymann-Scott process\n",
        "# The Intensity of the Poisson process for parent events is 0.05 x distance\n",
        "# The resulting rainy process is divided by the distance to give the \"ground truth\"\n",
        "# while it is corrupted through the following steps to yield \"noisy_series\":\n",
        "# - applying a non linear conversion to an attenuation in db\n",
        "# - applying a \"wet antenna convolution filter\" (kind of sliding mean)\n",
        "# - adding a high (gaussian noise with non linear dependance of sigma wrt the intensity)\n",
        "# - adding a low frequency random processes\n",
        "\n",
        "for batch_idx, (idxs, dists, ground_truths, noisy_series) in enumerate(dataloader):\n",
        "  if batch_idx == 0:\n",
        "    break"
      ]
    },
    {
      "cell_type": "code",
      "execution_count": null,
      "id": "TUb6dcqOQNcp",
      "metadata": {
        "id": "TUb6dcqOQNcp"
      },
      "outputs": [],
      "source": [
        "import matplotlib.pyplot as plt\n",
        "sigma = 2\n",
        "for k in range(5):\n",
        "  print(idxs[k], dists[k])\n",
        "  plt.figure(figsize=(10, 6))\n",
        "  plt.plot(np.arange(duration), ground_truths[k], label='ground_truth')\n",
        "  plt.plot(np.arange(duration), noisy_series[k], label='predictor')\n",
        "  plt.title(f'Inputs and Targets for the CML n°{idxs[k].item():.0f} (ditance: {dists[k].item():.2f})')\n",
        "  plt.xlabel('Time (minutes)')\n",
        "  plt.ylabel('Event Density')\n",
        "  plt.ylim(-1,6)\n",
        "  plt.legend()\n",
        "  plt.show()"
      ]
    },
    {
      "cell_type": "code",
      "execution_count": null,
      "id": "92ab6b68-0814-416f-9c23-85dfa0b7bba8",
      "metadata": {
        "id": "92ab6b68-0814-416f-9c23-85dfa0b7bba8"
      },
      "outputs": [],
      "source": [
        "# Same weights for all CMLs\n",
        "\n",
        "arch = \"UNet_causal_5mn_atrous\"\n",
        "nchannels = 1\n",
        "nclasses = 1 # Regression only\n",
        "dilation = 2\n",
        "atrous_rates=[6, 12, 18] #, 24, 30, 36, 42]\n",
        "additional_parameters = 0\n",
        "\n",
        "model = load_archi(arch, nchannels, nclasses, size=64, dilation=1,\n",
        "                   atrous_rates=atrous_rates, fixed_cumul=False,\n",
        "                   additional_parameters=additional_parameters)\n",
        "\n",
        "device = torch.device(\"cuda\" if torch.cuda.is_available() else \"cpu\")\n",
        "model = model.to(device)\n",
        "\n",
        "# model = UNet(1, 1, 16).to(torch.device(\"cuda\" if torch.cuda.is_available() else \"cpu\"))\n",
        "optimizer = torch.optim.Adam(model.parameters(), lr=0.001)\n",
        "criterion = torch.nn.MSELoss()\n",
        "\n",
        "num_epochs = 300  # Adjust based on your needs\n",
        "\n",
        "model.train()\n",
        "for epoch in range(num_epochs):\n",
        "    running_loss = 0.0\n",
        "    for batch_idx, (idxs, dists, ground_truths, noisy_series) in enumerate(dataloader):\n",
        "        inputs, targets = noisy_series.to(device), \\\n",
        "                          ground_truths.to(device)\n",
        "\n",
        "        # Add the channel's dim\n",
        "        inputs = inputs.unsqueeze(1)\n",
        "        targets = targets.unsqueeze(1)\n",
        "\n",
        "        # Zeroing gradients\n",
        "        optimizer.zero_grad()\n",
        "\n",
        "        # Forward pass\n",
        "        outputs = model(inputs)\n",
        "        loss = criterion(outputs, targets)\n",
        "\n",
        "        # Backward and optimize\n",
        "        loss.backward()\n",
        "        optimizer.step()\n",
        "        running_loss += loss.item()\n",
        "\n",
        "    print(f'Epoch [{epoch+1}/{num_epochs}], Loss: {running_loss/len(dataloader):.4f}')"
      ]
    },
    {
      "cell_type": "code",
      "execution_count": null,
      "id": "b0f990b0-0257-4afc-8bf6-1f964b08367b",
      "metadata": {
        "id": "b0f990b0-0257-4afc-8bf6-1f964b08367b"
      },
      "outputs": [],
      "source": [
        "import matplotlib.pyplot as plt\n",
        "\n",
        "def visualize_predictions(model, data_loader, num_samples=1):\n",
        "    model.eval()\n",
        "    L = 1000\n",
        "    with torch.no_grad():\n",
        "        for batch_idx, (idxs, dists, ground_truths, noisy_series) in enumerate(dataloader):\n",
        "\n",
        "            inputs = noisy_series.to(device).unsqueeze(1).float()  # Adjust input dimensions\n",
        "            outputs = model(inputs).cpu()\n",
        "\n",
        "            for i in range(num_samples):\n",
        "                plt.figure(figsize=(16, 4))\n",
        "                # plt.plot(noisy_series[i].squeeze(), label='input')\n",
        "                plt.plot(ground_truths[i,:L].squeeze(), label='Observation')\n",
        "                plt.plot(outputs[i].squeeze()[:L], label='Prediction', linestyle='--')\n",
        "                plt.legend()\n",
        "                plt.show()\n",
        "            break  # Just show the first batch\n",
        "\n",
        "visualize_predictions(model, dataloader, num_samples=5)\n"
      ]
    },
    {
      "cell_type": "code",
      "execution_count": null,
      "id": "tFGXzz6xh4ir",
      "metadata": {
        "id": "tFGXzz6xh4ir"
      },
      "outputs": [],
      "source": [
        "# How to do better ?"
      ]
    },
    {
      "cell_type": "code",
      "execution_count": 8,
      "id": "ZenXWDE-7A9N",
      "metadata": {
        "colab": {
          "base_uri": "https://localhost:8080/"
        },
        "id": "ZenXWDE-7A9N",
        "outputId": "3c5569c6-4532-4038-c3bb-43951ba7855f"
      },
      "outputs": [
        {
          "output_type": "stream",
          "name": "stdout",
          "text": [
            "Epoch [1/50], Loss: 0.6667\n",
            "Epoch [2/50], Loss: 0.2918\n",
            "Epoch [3/50], Loss: 0.2657\n",
            "Epoch [4/50], Loss: 0.2516\n",
            "Epoch [5/50], Loss: 0.2470\n",
            "Epoch [6/50], Loss: 0.2376\n",
            "Epoch [7/50], Loss: 0.2327\n",
            "Epoch [8/50], Loss: 0.2272\n",
            "Epoch [9/50], Loss: 0.2220\n",
            "Epoch [10/50], Loss: 0.2041\n",
            "Epoch [11/50], Loss: 0.1878\n",
            "Epoch [12/50], Loss: 0.1781\n",
            "Epoch [13/50], Loss: 0.1728\n",
            "Epoch [14/50], Loss: 0.1630\n",
            "Epoch [15/50], Loss: 0.1610\n",
            "Epoch [16/50], Loss: 0.1571\n",
            "Epoch [17/50], Loss: 0.1582\n",
            "Epoch [18/50], Loss: 0.1555\n",
            "Epoch [19/50], Loss: 0.1561\n",
            "Epoch [20/50], Loss: 0.1538\n",
            "Epoch [21/50], Loss: 0.1518\n",
            "Epoch [22/50], Loss: 0.1504\n",
            "Epoch [23/50], Loss: 0.1490\n",
            "Epoch [24/50], Loss: 0.1499\n",
            "Epoch [25/50], Loss: 0.1509\n",
            "Epoch [26/50], Loss: 0.1468\n",
            "Epoch [27/50], Loss: 0.1507\n",
            "Epoch [28/50], Loss: 0.1467\n",
            "Epoch [29/50], Loss: 0.1451\n",
            "Epoch [30/50], Loss: 0.1464\n",
            "Epoch [31/50], Loss: 0.1445\n",
            "Epoch [32/50], Loss: 0.1431\n",
            "Epoch [33/50], Loss: 0.1430\n",
            "Epoch [34/50], Loss: 0.1433\n",
            "Epoch [35/50], Loss: 0.1462\n",
            "Epoch [36/50], Loss: 0.1425\n",
            "Epoch [37/50], Loss: 0.1457\n",
            "Epoch [38/50], Loss: 0.1494\n",
            "Epoch [39/50], Loss: 0.1424\n",
            "Epoch [40/50], Loss: 0.1423\n",
            "Epoch [41/50], Loss: 0.1422\n",
            "Epoch [42/50], Loss: 0.1408\n",
            "Epoch [43/50], Loss: 0.1418\n",
            "Epoch [44/50], Loss: 0.1411\n",
            "Epoch [45/50], Loss: 0.1422\n",
            "Epoch [46/50], Loss: 0.1438\n",
            "Epoch [47/50], Loss: 0.1405\n",
            "Epoch [48/50], Loss: 0.1413\n",
            "Epoch [49/50], Loss: 0.1423\n",
            "Epoch [50/50], Loss: 0.1385\n"
          ]
        }
      ],
      "source": [
        "# sol 1 : UNet_causal_5mn_atrous_rescale: adds a scaling parameter for each CML\n",
        "\n",
        "arch = \"UNet_causal_5mn_atrous_rescale\"\n",
        "nchannels = 1\n",
        "nclasses = 1 # Regression only\n",
        "dilation = 2\n",
        "atrous_rates=[6, 12, 18] #, 24, 30, 36, 42]\n",
        "additional_parameters = 1005\n",
        "\n",
        "model = load_archi(arch, nchannels, nclasses, size=64, dilation=1,\n",
        "                   atrous_rates=atrous_rates, fixed_cumul=False,\n",
        "                   additional_parameters=additional_parameters)\n",
        "\n",
        "device = torch.device(\"cuda\" if torch.cuda.is_available() else \"cpu\")\n",
        "model = model.to(device)\n",
        "\n",
        "# model = UNet(1, 1, 16).to(torch.device(\"cuda\" if torch.cuda.is_available() else \"cpu\"))\n",
        "optimizer = torch.optim.Adam(model.parameters(), lr=0.001)\n",
        "criterion = torch.nn.MSELoss()\n",
        "\n",
        "num_epochs = 50  # Adjust based on your needs\n",
        "\n",
        "model.train()\n",
        "for epoch in range(num_epochs):\n",
        "    running_loss = 0.0\n",
        "    for batch_idx, (idxs, dists, ground_truths, noisy_series) in enumerate(dataloader):\n",
        "        inputs, targets = noisy_series.to(device), \\\n",
        "                          ground_truths.to(device)\n",
        "\n",
        "        # Add the channel's dim\n",
        "        inputs = inputs.unsqueeze(1)\n",
        "        targets = targets.unsqueeze(1)\n",
        "\n",
        "        # Zeroing gradients\n",
        "        optimizer.zero_grad()\n",
        "\n",
        "        # Forward pass\n",
        "        outputs = model(inputs)\n",
        "\n",
        "        outputs, p = model(inputs, indices=idxs.to(device))\n",
        "        outputs[:,:,:] *= p[5:].view(outputs.shape[0],1,1)\n",
        "\n",
        "        loss = criterion(outputs, targets)\n",
        "\n",
        "        # Backward and optimize\n",
        "        loss.backward()\n",
        "        optimizer.step()\n",
        "        running_loss += loss.item()\n",
        "\n",
        "    print(f'Epoch [{epoch+1}/{num_epochs}], Loss: {running_loss/len(dataloader):.4f}')"
      ]
    },
    {
      "cell_type": "code",
      "source": [
        "# sol 2 (step 1): with UNet_causal_5mn_multiplicative_rescale,\n",
        "# the scaling parameter\n",
        "# is yielded by specific perceptrons (one per CML)\n",
        "\n",
        "arch = \"UNet_causal_5mn_atrous_multiplicative_rescale\"\n",
        "nchannels = 1\n",
        "nclasses = 5\n",
        "dilation = 2\n",
        "atrous_rates=[6, 12, 18] #, 24, 30, 36, 42]\n",
        "additional_parameters = 0\n",
        "\n",
        "model = load_archi(arch, nchannels, nclasses, size=64, dilation=1,\n",
        "                   atrous_rates=atrous_rates, fixed_cumul=False,\n",
        "                   additional_parameters=additional_parameters)\n",
        "\n",
        "device = torch.device(\"cuda\" if torch.cuda.is_available() else \"cpu\")\n",
        "model = model.to(device)\n",
        "optimizer = torch.optim.Adam(model.parameters(), lr=0.001)\n",
        "\n",
        "\n",
        "# model = UNet(1, 1, 16).to(torch.device(\"cuda\" if torch.cuda.is_available() else \"cpu\"))\n",
        "# model.freeze_specific_parts()\n",
        "\n",
        "criterion = torch.nn.MSELoss()\n",
        "\n",
        "num_epochs = 50  # Adjust based on your needs\n",
        "\n",
        "model.train()\n",
        "\n",
        "for epoch in range(num_epochs):\n",
        "    running_loss = 0.0\n",
        "    for batch_idx, (idxs, dists, ground_truths, noisy_series) in enumerate(dataloader):\n",
        "        inputs, targets = noisy_series.to(device), \\\n",
        "                          ground_truths.to(device)\n",
        "\n",
        "        use_first_network = torch.rand(idxs.shape, device=inputs.device) > 0.75\n",
        "        idxs[use_first_network] = -1\n",
        "        # Add the channel's dim\n",
        "        inputs = inputs.unsqueeze(1)\n",
        "        targets = targets.unsqueeze(1)\n",
        "\n",
        "        # Zeroing gradients\n",
        "        optimizer.zero_grad()\n",
        "\n",
        "        # Forward pass\n",
        "        outputs = model(inputs, idxs.to(device))\n",
        "\n",
        "        loss = criterion(outputs, targets)\n",
        "\n",
        "        # Backward and optimize\n",
        "        loss.backward()\n",
        "        optimizer.step()\n",
        "        running_loss += loss.item()\n",
        "\n",
        "    print(f'Epoch [{epoch+1}/{num_epochs}], Loss: {running_loss/len(dataloader):.4f}')"
      ],
      "metadata": {
        "id": "PQlYsjhnWstA",
        "outputId": "c1b30220-ed59-4ce5-f84c-3e73a74af443",
        "colab": {
          "base_uri": "https://localhost:8080/"
        }
      },
      "id": "PQlYsjhnWstA",
      "execution_count": 87,
      "outputs": [
        {
          "output_type": "stream",
          "name": "stdout",
          "text": [
            "Epoch [1/50], Loss: 0.4377\n",
            "Epoch [2/50], Loss: 0.2800\n",
            "Epoch [3/50], Loss: 0.2586\n",
            "Epoch [4/50], Loss: 0.2482\n",
            "Epoch [5/50], Loss: 0.2349\n",
            "Epoch [6/50], Loss: 0.2247\n",
            "Epoch [7/50], Loss: 0.2139\n",
            "Epoch [8/50], Loss: 0.2196\n",
            "Epoch [9/50], Loss: 0.2121\n",
            "Epoch [10/50], Loss: 0.1996\n",
            "Epoch [11/50], Loss: 0.1839\n",
            "Epoch [12/50], Loss: 0.1772\n",
            "Epoch [13/50], Loss: 0.1666\n",
            "Epoch [14/50], Loss: 0.1610\n",
            "Epoch [15/50], Loss: 0.1561\n",
            "Epoch [16/50], Loss: 0.1551\n",
            "Epoch [17/50], Loss: 0.1540\n",
            "Epoch [18/50], Loss: 0.1502\n",
            "Epoch [19/50], Loss: 0.1574\n",
            "Epoch [20/50], Loss: 0.1509\n",
            "Epoch [21/50], Loss: 0.1464\n",
            "Epoch [22/50], Loss: 0.1464\n",
            "Epoch [23/50], Loss: 0.1450\n",
            "Epoch [24/50], Loss: 0.1418\n",
            "Epoch [25/50], Loss: 0.1457\n",
            "Epoch [26/50], Loss: 0.1422\n",
            "Epoch [27/50], Loss: 0.1380\n",
            "Epoch [28/50], Loss: 0.1385\n",
            "Epoch [29/50], Loss: 0.1388\n",
            "Epoch [30/50], Loss: 0.1401\n",
            "Epoch [31/50], Loss: 0.1381\n",
            "Epoch [32/50], Loss: 0.1376\n",
            "Epoch [33/50], Loss: 0.1371\n",
            "Epoch [34/50], Loss: 0.1384\n",
            "Epoch [35/50], Loss: 0.1398\n",
            "Epoch [36/50], Loss: 0.1357\n",
            "Epoch [37/50], Loss: 0.1359\n",
            "Epoch [38/50], Loss: 0.1350\n",
            "Epoch [39/50], Loss: 0.1339\n",
            "Epoch [40/50], Loss: 0.1334\n",
            "Epoch [41/50], Loss: 0.1306\n",
            "Epoch [42/50], Loss: 0.1316\n",
            "Epoch [43/50], Loss: 0.1318\n",
            "Epoch [44/50], Loss: 0.1329\n",
            "Epoch [45/50], Loss: 0.1325\n",
            "Epoch [46/50], Loss: 0.1320\n",
            "Epoch [47/50], Loss: 0.1308\n",
            "Epoch [48/50], Loss: 0.1313\n",
            "Epoch [49/50], Loss: 0.1286\n",
            "Epoch [50/50], Loss: 0.1317\n"
          ]
        }
      ]
    },
    {
      "cell_type": "code",
      "source": [
        "# sol 2 (step 2): the generic part is freezed while the specific perceptrons\n",
        "# are fine tuned\n",
        "num_epochs = 20\n",
        "\n",
        "model.unfreeze_specific_parts()\n",
        "model.freeze_generic_parts()\n",
        "\n",
        "for epoch in range(num_epochs):\n",
        "    running_loss = 0.0\n",
        "    for batch_idx, (idxs, dists, ground_truths, noisy_series) in enumerate(dataloader):\n",
        "        inputs, targets = noisy_series.to(device), \\\n",
        "                          ground_truths.to(device)\n",
        "\n",
        "        # Add the channel's dim\n",
        "        inputs = inputs.unsqueeze(1)\n",
        "        targets = targets.unsqueeze(1)\n",
        "\n",
        "        # Zeroing gradients\n",
        "        optimizer.zero_grad()\n",
        "        # Forward pass\n",
        "        outputs = model(inputs, idxs.to(device))\n",
        "\n",
        "        loss = criterion(outputs, targets)\n",
        "\n",
        "        # Backward and optimize\n",
        "        loss.backward()\n",
        "        optimizer.step()\n",
        "\n",
        "        running_loss += loss.item()\n",
        "\n",
        "    print(f'Epoch [{epoch+1}/{num_epochs}], Loss: {running_loss/len(dataloader):.4f}')"
      ],
      "metadata": {
        "id": "mjs1ZaDdbmdL",
        "outputId": "e2dd2084-630a-4bd4-bfc9-c92ab1f10366",
        "colab": {
          "base_uri": "https://localhost:8080/"
        }
      },
      "id": "mjs1ZaDdbmdL",
      "execution_count": 88,
      "outputs": [
        {
          "output_type": "stream",
          "name": "stdout",
          "text": [
            "Epoch [1/20], Loss: 0.1262\n",
            "Epoch [2/20], Loss: 0.1258\n",
            "Epoch [3/20], Loss: 0.1263\n",
            "Epoch [4/20], Loss: 0.1249\n",
            "Epoch [5/20], Loss: 0.1247\n",
            "Epoch [6/20], Loss: 0.1255\n",
            "Epoch [7/20], Loss: 0.1252\n",
            "Epoch [8/20], Loss: 0.1244\n",
            "Epoch [9/20], Loss: 0.1249\n",
            "Epoch [10/20], Loss: 0.1240\n",
            "Epoch [11/20], Loss: 0.1232\n",
            "Epoch [12/20], Loss: 0.1235\n",
            "Epoch [13/20], Loss: 0.1232\n",
            "Epoch [14/20], Loss: 0.1245\n",
            "Epoch [15/20], Loss: 0.1239\n",
            "Epoch [16/20], Loss: 0.1232\n",
            "Epoch [17/20], Loss: 0.1234\n",
            "Epoch [18/20], Loss: 0.1233\n",
            "Epoch [19/20], Loss: 0.1242\n",
            "Epoch [20/20], Loss: 0.1238\n"
          ]
        }
      ]
    },
    {
      "cell_type": "code",
      "source": [
        "# To pull and reload, if needed:\n",
        "! cd CML_processing_by_ML ; git pull ; cd ..\n",
        "\n",
        "import importlib\n",
        "importlib.reload(src.utils.architectures_fcn)\n",
        "importlib.reload(src.utils.architectures)\n",
        "from src.utils.architectures_fcn import  UNet_causal_5mn_atrous_multiplicative_rescale\n",
        "from src.utils.architectures import  load_archi"
      ],
      "metadata": {
        "id": "O-u9K46hUabt"
      },
      "id": "O-u9K46hUabt",
      "execution_count": null,
      "outputs": []
    }
  ],
  "metadata": {
    "accelerator": "GPU",
    "colab": {
      "gpuType": "T4",
      "machine_shape": "hm",
      "provenance": []
    },
    "kernelspec": {
      "display_name": "Python 3",
      "name": "python3"
    },
    "language_info": {
      "codemirror_mode": {
        "name": "ipython",
        "version": 3
      },
      "file_extension": ".py",
      "mimetype": "text/x-python",
      "name": "python",
      "nbconvert_exporter": "python",
      "pygments_lexer": "ipython3",
      "version": "3.9.15"
    }
  },
  "nbformat": 4,
  "nbformat_minor": 5
}