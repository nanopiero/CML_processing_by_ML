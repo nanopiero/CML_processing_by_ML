{
  "cells": [
    {
      "cell_type": "code",
      "execution_count": null,
      "id": "cf3477e5-ac2b-4cf8-9de3-e95782130327",
      "metadata": {
        "scrolled": true,
        "id": "cf3477e5-ac2b-4cf8-9de3-e95782130327"
      },
      "outputs": [],
      "source": [
        "# Local clone\n",
        "! git clone https://github.com/nanopiero/CML_processing_by_ML.git"
      ]
    },
    {
      "cell_type": "code",
      "source": [
        "# Imports\n",
        "from os.path import join, isdir, isfile\n",
        "from os import listdir as ls\n",
        "import copy\n",
        "import torch\n",
        "import numpy as np\n",
        "\n",
        "import sys\n",
        "sys.path.append('CML_processing_by_ML')\n",
        "from src.utils.simulation import create_dataloader\n",
        "import src.utils.architectures_fcn\n",
        "from src.utils.architectures import load_archi\n",
        "from src.utils.architectures_fcn import UNet_causal_5mn_atrous"
      ],
      "metadata": {
        "id": "0u1PXBYMSD-f"
      },
      "id": "0u1PXBYMSD-f",
      "execution_count": 2,
      "outputs": []
    },
    {
      "cell_type": "code",
      "source": [
        "# Dictionary with pseudo \"distances\" (distances between two antennnas) for 1,000 pseudo CML ids.\n",
        "idx2distance = {i: 0.2 +  1.8 * torch.rand((1,)).item() for i in range(0, 1000)}\n",
        "duration = 4096  # Duration for each tensor pair\n",
        "batch_size = 100  # Number of samples per batch\n",
        "dataloader = create_dataloader(duration, idx2distance, batch_size)"
      ],
      "metadata": {
        "id": "iywu4Uq-e2rx"
      },
      "id": "iywu4Uq-e2rx",
      "execution_count": 3,
      "outputs": []
    },
    {
      "cell_type": "code",
      "execution_count": 4,
      "id": "789fdbdd-33b7-4447-a26a-cc4a4ff3a10d",
      "metadata": {
        "id": "789fdbdd-33b7-4447-a26a-cc4a4ff3a10d"
      },
      "outputs": [],
      "source": [
        "# Here we samples 64 ground-truth rainy processes and their noisy counterpart\n",
        "# A rainy process is modeled by a 1-d Neymann-Scott process\n",
        "# The Intensity of the Poisson process for parent events is 0.05 x distance\n",
        "# The resulting rainy process is divided by the distance to give the \"ground truth\"\n",
        "# while it is corrupted through the following steps to yield \"noisy_series\":\n",
        "# - applying a non linear conversion to an attenuation in db\n",
        "# - applying a \"wet antenna convolution filter\" (kind of sliding mean)\n",
        "# - adding a high (gaussian noise with non linear dependance of sigma wrt the intensity)\n",
        "# - adding a low frequency random processes\n",
        "\n",
        "for batch_idx, (idxs, dists, ground_truths, noisy_series) in enumerate(dataloader):\n",
        "  if batch_idx == 0:\n",
        "    break"
      ]
    },
    {
      "cell_type": "code",
      "source": [
        "import matplotlib.pyplot as plt\n",
        "sigma = 2\n",
        "for k in range(5):\n",
        "  print(idxs[k], dists[k])\n",
        "  plt.figure(figsize=(10, 6))\n",
        "  plt.plot(np.arange(duration), ground_truths[k], label='ground_truth')\n",
        "  plt.plot(np.arange(duration), noisy_series[k], label='predictor')\n",
        "  plt.title(f'Inputs and Targets for the CML n°{idxs[k].item():.0f} (ditance: {dists[k].item():.2f})')\n",
        "  plt.xlabel('Time (minutes)')\n",
        "  plt.ylabel('Event Density')\n",
        "  plt.ylim(-1,6)\n",
        "  plt.legend()\n",
        "  plt.show()"
      ],
      "metadata": {
        "id": "TUb6dcqOQNcp"
      },
      "id": "TUb6dcqOQNcp",
      "execution_count": null,
      "outputs": []
    },
    {
      "cell_type": "code",
      "execution_count": null,
      "id": "92ab6b68-0814-416f-9c23-85dfa0b7bba8",
      "metadata": {
        "id": "92ab6b68-0814-416f-9c23-85dfa0b7bba8"
      },
      "outputs": [],
      "source": [
        "arch = \"UNet_causal_5mn_atrous\"\n",
        "nchannels = 1\n",
        "nclasses = 1 # Regression only\n",
        "dilation = 2\n",
        "atrous_rates=[6, 12, 18] #, 24, 30, 36, 42]\n",
        "additional_parameters = 0\n",
        "\n",
        "model = load_archi(arch, nchannels, nclasses, size=64, dilation=1,\n",
        "                   atrous_rates=atrous_rates, fixed_cumul=False,\n",
        "                   additional_parameters=additional_parameters)\n",
        "\n",
        "device = torch.device(\"cuda\" if torch.cuda.is_available() else \"cpu\")\n",
        "model = model.to(device)\n",
        "\n",
        "# model = UNet(1, 1, 16).to(torch.device(\"cuda\" if torch.cuda.is_available() else \"cpu\"))\n",
        "optimizer = torch.optim.Adam(model.parameters(), lr=0.001)\n",
        "criterion = torch.nn.MSELoss()\n",
        "\n",
        "num_epochs = 50  # Adjust based on your needs\n",
        "\n",
        "model.train()\n",
        "for epoch in range(num_epochs):\n",
        "    running_loss = 0.0\n",
        "    for batch_idx, (idxs, dists, ground_truths, noisy_series) in enumerate(dataloader):\n",
        "        inputs, targets = noisy_series.to(device), \\\n",
        "                          ground_truths.to(device)\n",
        "\n",
        "        # Add the channel's dim\n",
        "        inputs = inputs.unsqueeze(1)\n",
        "        targets = targets.unsqueeze(1)\n",
        "\n",
        "        # Zeroing gradients\n",
        "        optimizer.zero_grad()\n",
        "\n",
        "        # Forward pass\n",
        "        outputs = model(inputs)\n",
        "        loss = criterion(outputs, targets)\n",
        "\n",
        "        # Backward and optimize\n",
        "        loss.backward()\n",
        "        optimizer.step()\n",
        "        running_loss += loss.item()\n",
        "\n",
        "    print(f'Epoch [{epoch+1}/{num_epochs}], Loss: {running_loss/len(dataloader):.4f}')"
      ]
    },
    {
      "cell_type": "code",
      "execution_count": null,
      "id": "b0f990b0-0257-4afc-8bf6-1f964b08367b",
      "metadata": {
        "id": "b0f990b0-0257-4afc-8bf6-1f964b08367b"
      },
      "outputs": [],
      "source": [
        "import matplotlib.pyplot as plt\n",
        "\n",
        "def visualize_predictions(model, data_loader, num_samples=1):\n",
        "    model.eval()\n",
        "    L = 1000\n",
        "    with torch.no_grad():\n",
        "        for batch_idx, (idxs, dists, ground_truths, noisy_series) in enumerate(dataloader):\n",
        "\n",
        "            inputs = noisy_series.to(device).unsqueeze(1).float()  # Adjust input dimensions\n",
        "            outputs = model(inputs).cpu()\n",
        "\n",
        "            for i in range(num_samples):\n",
        "                plt.figure(figsize=(16, 4))\n",
        "                # plt.plot(noisy_series[i].squeeze(), label='input')\n",
        "                plt.plot(ground_truths[i,:L].squeeze(), label='Observation')\n",
        "                plt.plot(outputs[i].squeeze()[:L], label='Prediction', linestyle='--')\n",
        "                plt.legend()\n",
        "                plt.show()\n",
        "            break  # Just show the first batch\n",
        "\n",
        "visualize_predictions(model, dataloader, num_samples=5)\n"
      ]
    },
    {
      "cell_type": "code",
      "source": [
        "# How to do better ?"
      ],
      "metadata": {
        "id": "tFGXzz6xh4ir"
      },
      "id": "tFGXzz6xh4ir",
      "execution_count": null,
      "outputs": []
    }
  ],
  "metadata": {
    "kernelspec": {
      "display_name": "Python 3",
      "name": "python3"
    },
    "language_info": {
      "codemirror_mode": {
        "name": "ipython",
        "version": 3
      },
      "file_extension": ".py",
      "mimetype": "text/x-python",
      "name": "python",
      "nbconvert_exporter": "python",
      "pygments_lexer": "ipython3",
      "version": "3.9.15"
    },
    "colab": {
      "provenance": [],
      "machine_shape": "hm",
      "gpuType": "L4"
    },
    "accelerator": "GPU"
  },
  "nbformat": 4,
  "nbformat_minor": 5
}