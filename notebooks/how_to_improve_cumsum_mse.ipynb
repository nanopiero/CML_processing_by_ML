{
  "cells": [
    {
      "cell_type": "code",
      "execution_count": null,
      "id": "cf3477e5-ac2b-4cf8-9de3-e95782130327",
      "metadata": {
        "id": "cf3477e5-ac2b-4cf8-9de3-e95782130327",
        "scrolled": true
      },
      "outputs": [],
      "source": [
        "# Local clone\n",
        "! git clone https://github.com/nanopiero/CML_processing_by_ML.git"
      ]
    },
    {
      "cell_type": "code",
      "execution_count": 2,
      "id": "0u1PXBYMSD-f",
      "metadata": {
        "id": "0u1PXBYMSD-f"
      },
      "outputs": [],
      "source": [
        "# Imports\n",
        "from os.path import join, isdir, isfile\n",
        "from os import listdir as ls\n",
        "import copy\n",
        "import torch\n",
        "import numpy as np\n",
        "\n",
        "import sys\n",
        "sys.path.append('CML_processing_by_ML')\n",
        "\n",
        "from src.utils.simulation import create_dataloader\n",
        "import src.utils.architectures_fcn\n",
        "from src.utils.architectures import load_archi\n",
        "from src.utils.architectures_fcn import UNet_causal_5mn_atrous, UNet_causal_5mn_atrous_rescale"
      ]
    },
    {
      "cell_type": "code",
      "execution_count": 3,
      "id": "iywu4Uq-e2rx",
      "metadata": {
        "id": "iywu4Uq-e2rx"
      },
      "outputs": [],
      "source": [
        "# Dictionary with pseudo \"distances\" (distances between two antennnas) for 1,000 pseudo CML ids.\n",
        "idx2distance = {i: 0.2 +  1.8 * torch.rand((1,)).item() for i in range(0, 1000)}\n",
        "duration = 4096  # length of the time series\n",
        "batch_size = 100  # Number of samples per batch\n",
        "dataloader = create_dataloader(duration, idx2distance, batch_size)"
      ]
    },
    {
      "cell_type": "code",
      "source": [
        "# To pull and reload, if needed:\n",
        "! cd CML_processing_by_ML ; git pull ; cd ..\n",
        "\n",
        "import importlib\n",
        "importlib.reload(src.utils.architectures_fcn)\n",
        "importlib.reload(src.utils.architectures)\n",
        "from src.utils.architectures_fcn import  UNet_causal_5mn_atrous_multiplicative_rescale\n",
        "from src.utils.architectures import  load_archi"
      ],
      "metadata": {
        "colab": {
          "base_uri": "https://localhost:8080/"
        },
        "id": "O-u9K46hUabt",
        "outputId": "8518b529-7841-4468-9837-4df3d05c7087"
      },
      "id": "O-u9K46hUabt",
      "execution_count": 4,
      "outputs": [
        {
          "output_type": "stream",
          "name": "stdout",
          "text": [
            "Already up to date.\n"
          ]
        }
      ]
    },
    {
      "cell_type": "markdown",
      "source": [
        "# How to correctly process both 1h and 1min sums ?"
      ],
      "metadata": {
        "id": "b3O_2aJa1Jpm"
      },
      "id": "b3O_2aJa1Jpm"
    },
    {
      "cell_type": "code",
      "source": [
        "import torch\n",
        "import torch.nn as nn\n",
        "import torch.nn.functional as F\n",
        "\n",
        "class Loss2scales(nn.Module):\n",
        "    def __init__(self, multitask=True, alpha=1, beta=1/64):\n",
        "        super(Loss2scales, self).__init__()\n",
        "        self.criterion = nn.MSELoss()\n",
        "        self.multitask = multitask\n",
        "        self.alpha = alpha\n",
        "        self.beta = beta\n",
        "    def forward(self, y, z, p=None):\n",
        "        # Compute MSE1: MSE between y[:, 0] and z\n",
        "        mse1 = self.criterion(y[:, 0], z[:, 0])\n",
        "\n",
        "        # Compute MSE64 using convolution\n",
        "        if y.shape[1] == 1:\n",
        "            y_channel = y[:, 0].unsqueeze(1)  # Shape: (batch_size, 1, 4096)\n",
        "        elif y.shape[1] == 2:\n",
        "            y_channel = y[:, 1].unsqueeze(1)  # Shape: (batch_size, 1, 4096)\n",
        "\n",
        "        # Create the convolutional kernel for summing over a window of size 64\n",
        "        kernel = torch.ones(1, 1, 64, device=y.device)\n",
        "\n",
        "        # Compute y64: convolution with stride of 64\n",
        "        y64 = F.conv1d(y_channel, kernel, stride=64)\n",
        "        # Adjust z to match the shape for convolution\n",
        "        z64 = F.conv1d(z, kernel, stride=64)\n",
        "        # Compute MSE64\n",
        "        mse64 = self.criterion(y64, z64)\n",
        "\n",
        "        # Combine the two losses\n",
        "        if self.multitask:\n",
        "            if p is None:\n",
        "                raise ValueError(\"Parameter p must be provided for multitask loss computation.\")\n",
        "            # Multi-task loss balancing with the provided parameter p\n",
        "            loss = (1 / (2 * p[0])) * mse1 + (1 / (2 * 64 * p[1])) * mse64 + torch.log(1 + p[0]**2 + p[1]**2)\n",
        "        else:\n",
        "            # Simple combination of the losses\n",
        "            loss = self.alpha * mse1 + self.beta * mse64\n",
        "\n",
        "        return loss, mse1, 1/64 * mse64"
      ],
      "metadata": {
        "id": "9AeaSQtTxzm4"
      },
      "id": "9AeaSQtTxzm4",
      "execution_count": 31,
      "outputs": []
    },
    {
      "cell_type": "code",
      "source": [
        "def training(criterion, num_epochs, dataloader, model, optimizer):\n",
        "\n",
        "  model.train()\n",
        "  losses1 = []\n",
        "  losses64 = []\n",
        "  for epoch in range(num_epochs):\n",
        "\n",
        "      running_loss = 0.0\n",
        "      running_loss1 = 0.0\n",
        "      running_loss64 = 0.0\n",
        "\n",
        "      for batch_idx, (idxs, dists, ground_truths, noisy_series) in enumerate(dataloader):\n",
        "          inputs, targets = noisy_series.to(device), \\\n",
        "                            ground_truths.to(device)\n",
        "\n",
        "          use_first_network = torch.rand(idxs.shape, device=inputs.device) > 0.75\n",
        "          idxs[use_first_network] = -1\n",
        "\n",
        "          # Add the channel's dim\n",
        "          inputs = inputs.unsqueeze(1)\n",
        "          targets = targets.unsqueeze(1)\n",
        "\n",
        "          # Zeroing gradients\n",
        "          optimizer.zero_grad()\n",
        "\n",
        "          # Forward pass\n",
        "          outputs = model(inputs, idxs.to(device))\n",
        "          loss, loss1, loss64 = criterion(outputs, targets, model.p)\n",
        "\n",
        "          # Backward and optimize\n",
        "          loss.backward()\n",
        "          optimizer.step()\n",
        "          running_loss += loss.item()\n",
        "          running_loss1 += loss1.item()\n",
        "          running_loss64 += loss64.item()\n",
        "\n",
        "      if (epoch + 1) % 10 == 0:\n",
        "        print(f'Epoch [{epoch+1}/{num_epochs}], Loss: {running_loss/len(dataloader):.4f}, Loss: {running_loss1/len(dataloader):.4f}, Loss: {running_loss64/len(dataloader):.4f}')\n",
        "\n",
        "      losses1.append(running_loss1/len(dataloader))\n",
        "      losses64.append(running_loss64/len(dataloader))\n",
        "\n",
        "  return model, losses1, losses64"
      ],
      "metadata": {
        "id": "y_lm_3kBANMF"
      },
      "id": "y_lm_3kBANMF",
      "execution_count": 25,
      "outputs": []
    },
    {
      "cell_type": "code",
      "source": [
        "# constants\n",
        "arch = \"UNet_causal_5mn_atrous_multiplicative_rescale\"\n",
        "device = torch.device(\"cuda\" if torch.cuda.is_available() else \"cpu\")\n",
        "nchannels = 1\n",
        "dilation = 2\n",
        "atrous_rates=[6, 12, 18]\n",
        "additional_parameters = 2\n",
        "\n",
        "num_epochs = 50"
      ],
      "metadata": {
        "id": "MO5liydWA-3m"
      },
      "id": "MO5liydWA-3m",
      "execution_count": 43,
      "outputs": []
    },
    {
      "cell_type": "code",
      "source": [
        "# exp 11: alpha = 1 beta = 0 (no need to optimize cumsums)\n",
        "criterion = Loss2scales(multitask=False, alpha=1, beta=0)\n",
        "nclasses = 1\n",
        "model = load_archi(arch, nchannels, nclasses, size=64, dilation=1,\n",
        "                   atrous_rates=atrous_rates, fixed_cumul=False,\n",
        "                   additional_parameters=additional_parameters).to(device)\n",
        "optimizer = torch.optim.Adam(model.parameters(), lr=0.001)\n",
        "_, losses1_1_1_0, losses64_1_1_0 = training(criterion, num_epochs, dataloader, model, optimizer)\n",
        "print('\\n')\n",
        "\n",
        "# exp 12: alpha = 1 beta = 1/64 (no need to optimize cumsums)\n",
        "criterion = Loss2scales(multitask=False, alpha=1, beta=1/64.)\n",
        "nclasses = 1\n",
        "model = load_archi(arch, nchannels, nclasses, size=64, dilation=1,\n",
        "                   atrous_rates=atrous_rates, fixed_cumul=False,\n",
        "                   additional_parameters=additional_parameters).to(device)\n",
        "optimizer = torch.optim.Adam(model.parameters(), lr=0.001)\n",
        "_, losses1_1_1_64, losses64_1_1_64 = training(criterion, num_epochs, dataloader, model, optimizer)\n",
        "print('\\n')\n",
        "\n",
        "# exp 13: alpha = 0 beta = 1/64 (no need to optimize cumsums)\n",
        "criterion = Loss2scales(multitask=False, alpha=0, beta=1/64.)\n",
        "nclasses = 1\n",
        "model = load_archi(arch, nchannels, nclasses, size=64, dilation=1,\n",
        "                   atrous_rates=atrous_rates, fixed_cumul=False,\n",
        "                   additional_parameters=additional_parameters).to(device)\n",
        "optimizer = torch.optim.Adam(model.parameters(), lr=0.001)\n",
        "_, losses1_1_0_64, losses64_1_0_64 = training(criterion, num_epochs, dataloader, model, optimizer)\n",
        "print('\\n')\n",
        "\n",
        "# exp 21: 2 channels alpha = 1 beta = 0 (no need to optimize cumsums)\n",
        "criterion = Loss2scales(multitask=False, alpha=1, beta=0)\n",
        "nclasses = 2\n",
        "model = load_archi(arch, nchannels, nclasses, size=64, dilation=1,\n",
        "                   atrous_rates=atrous_rates, fixed_cumul=False,\n",
        "                   additional_parameters=additional_parameters).to(device)\n",
        "optimizer = torch.optim.Adam(model.parameters(), lr=0.001)\n",
        "_, losses1_2_1_0, losses64_2_1_0 = training(criterion, num_epochs, dataloader, model, optimizer)\n",
        "print('\\n')\n",
        "\n",
        "# exp 22: alpha = 1 beta = 1/64 (no need to optimize cumsums)\n",
        "criterion = Loss2scales(multitask=False, alpha=1, beta=1/64.)\n",
        "nclasses = 2\n",
        "model = load_archi(arch, nchannels, nclasses, size=64, dilation=1,\n",
        "                   atrous_rates=atrous_rates, fixed_cumul=False,\n",
        "                   additional_parameters=additional_parameters).to(device)\n",
        "optimizer = torch.optim.Adam(model.parameters(), lr=0.001)\n",
        "_, losses1_2_1_64, losses64_2_1_64 = training(criterion, num_epochs, dataloader, model, optimizer)\n",
        "print('\\n')\n",
        "\n",
        "# exp 23: alpha = 0 beta = 1/64 (no need to optimize cumsums)\n",
        "criterion = Loss2scales(multitask=False, alpha=0, beta=1/64.)\n",
        "nclasses = 2\n",
        "model = load_archi(arch, nchannels, nclasses, size=64, dilation=1,\n",
        "                   atrous_rates=atrous_rates, fixed_cumul=False,\n",
        "                   additional_parameters=additional_parameters).to(device)\n",
        "optimizer = torch.optim.Adam(model.parameters(), lr=0.001)\n",
        "_, losses1_2_0_64, losses64_2_0_64 = training(criterion, num_epochs, dataloader, model, optimizer)\n",
        "print('\\n')\n",
        "\n",
        "# exp 31: 1 channels alpha = 0 beta = 0 multitask = True\n",
        "criterion = Loss2scales(multitask=True, alpha=0, beta=0)\n",
        "nclasses = 2\n",
        "model = load_archi(arch, nchannels, nclasses, size=64, dilation=1,\n",
        "                   atrous_rates=atrous_rates, fixed_cumul=False,\n",
        "                   additional_parameters=additional_parameters).to(device)\n",
        "optimizer = torch.optim.Adam(model.parameters(), lr=0.001)\n",
        "_, losses1_1_mtl, losses64_1_mtl = training(criterion, num_epochs, dataloader, model, optimizer)\n",
        "print('\\n')\n",
        "\n",
        "# exp 32: 1 channels alpha = 0 beta = 0 multitask = True\n",
        "criterion = Loss2scales(multitask=True, alpha=0, beta=0)\n",
        "nclasses = 2\n",
        "model = load_archi(arch, nchannels, nclasses, size=64, dilation=1,\n",
        "                   atrous_rates=atrous_rates, fixed_cumul=False,\n",
        "                   additional_parameters=additional_parameters).to(device)\n",
        "optimizer = torch.optim.Adam(model.parameters(), lr=0.001)\n",
        "_, losses1_2_mtl, losses64_2_mtl = training(criterion, num_epochs, dataloader, model, optimizer)\n",
        "print('\\n')\n",
        "\n",
        "\n",
        "# Dictionary to store the experiment names and their corresponding losses\n",
        "experiments = {\n",
        "    'exp 11 (1, 0)': (losses1_1_1_0, losses64_1_1_0),\n",
        "    'exp 12 (1, 1/64)': (losses1_1_1_64, losses64_1_1_64),\n",
        "    'exp 13 (0, 1/64)': (losses1_1_0_64, losses64_1_0_64),\n",
        "    'exp 21 (1, 0)': (losses1_2_1_0, losses64_2_1_0),\n",
        "    'exp 22 (1, 1/64)': (losses1_2_1_64, losses64_2_1_64),\n",
        "    'exp 23 (0, 1/64)': (losses1_2_0_64, losses64_2_0_64),\n",
        "    'exp 31 (mtl, 1ch)': (losses1_1_mtl, losses64_1_mtl),\n",
        "    'exp 32 (mtl, 2ch)': (losses1_2_mtl, losses64_2_mtl)\n",
        "}\n",
        "\n",
        "# List of easily distinguishable colors\n",
        "colors = ['red', 'blue', 'green', 'violet', 'orange', 'black', 'grey', 'cyan']\n",
        "\n",
        "# Plotting all the losses\n",
        "plt.figure(figsize=(20, 20))\n",
        "\n",
        "for i, (exp_name, (losses1, losses64)) in enumerate(experiments.items()):\n",
        "    color = colors[i % len(colors)]  # Cycle through the color list\n",
        "    # Plot losses1 with a solid line using the selected color\n",
        "    plt.plot(losses1, label=f'{exp_name} - Loss1', linestyle='-', color=color)\n",
        "    # Plot losses64 with a dotted line using the same color\n",
        "    plt.plot(losses64, label=f'{exp_name} - Loss64', linestyle=':', color=color)\n",
        "\n",
        "# Adding titles and labels\n",
        "plt.title('Losses for Different Experiments')\n",
        "plt.xlabel('Epochs')\n",
        "plt.ylabel('Loss')\n",
        "plt.ylim([0,2])\n",
        "plt.legend()\n",
        "plt.grid(True)\n",
        "plt.show()"
      ],
      "metadata": {
        "id": "RuYaVDZFyME3",
        "outputId": "24366455-5074-4d01-f476-5af72971e31f",
        "colab": {
          "base_uri": "https://localhost:8080/"
        }
      },
      "id": "RuYaVDZFyME3",
      "execution_count": 38,
      "outputs": [
        {
          "output_type": "stream",
          "name": "stdout",
          "text": [
            "\n",
            "\n",
            "\n",
            "\n",
            "\n",
            "\n",
            "\n",
            "\n",
            "\n",
            "\n",
            "\n",
            "\n",
            "\n",
            "\n"
          ]
        }
      ]
    }
  ],
  "metadata": {
    "accelerator": "GPU",
    "colab": {
      "gpuType": "T4",
      "provenance": []
    },
    "kernelspec": {
      "display_name": "Python 3",
      "name": "python3"
    },
    "language_info": {
      "codemirror_mode": {
        "name": "ipython",
        "version": 3
      },
      "file_extension": ".py",
      "mimetype": "text/x-python",
      "name": "python",
      "nbconvert_exporter": "python",
      "pygments_lexer": "ipython3",
      "version": "3.9.15"
    }
  },
  "nbformat": 4,
  "nbformat_minor": 5
}