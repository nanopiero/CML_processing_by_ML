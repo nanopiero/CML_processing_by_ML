{
  "cells": [
    {
      "cell_type": "markdown",
      "metadata": {
        "id": "iiyN1ZqapArb"
      },
      "source": [
        "# Technical characteristics of the causal UNet with atrous conv."
      ]
    },
    {
      "cell_type": "code",
      "execution_count": null,
      "metadata": {
        "id": "4yiVYXndUGi8"
      },
      "outputs": [],
      "source": [
        "! git clone https://github.com/nanopiero/CML_processing_by_ML.git"
      ]
    },
    {
      "cell_type": "code",
      "execution_count": 3,
      "metadata": {
        "id": "WZ6HwBVpo41D"
      },
      "outputs": [],
      "source": [
        "import random\n",
        "import shutil\n",
        "import os\n",
        "from os import listdir as ls\n",
        "from os.path import join, isdir, isfile\n",
        "import matplotlib.pyplot as plt\n",
        "import numpy as np\n",
        "import re\n",
        "import json\n",
        "import copy\n",
        "import torch\n",
        "import torchvision\n",
        "from torch.utils.data import Dataset, DataLoader\n",
        "import torch.nn.functional as F\n",
        "import torchvision.transforms.functional as TF\n",
        "import time\n",
        "import importlib\n",
        "import sys\n",
        "from torch.utils.data.sampler import SubsetRandomSampler\n",
        "import sys"
      ]
    },
    {
      "cell_type": "markdown",
      "metadata": {
        "id": "sATfnJhcFCal"
      },
      "source": [
        "# <font color='blue'> I) Model Loading </font>"
      ]
    },
    {
      "cell_type": "code",
      "execution_count": 4,
      "metadata": {
        "id": "Xfr2-_DNeoNE"
      },
      "outputs": [],
      "source": [
        "sys.path.append('CML_processing_by_ML')\n",
        "import src.utils.architectures_fcn\n",
        "from src.utils.architectures import load_archi\n",
        "from src.utils.architectures_fcn import UNet_causal_5mn_atrous\n",
        "\n",
        "# example with exp69 (no final fc layers)\n",
        "\"\"\"\n",
        "python learning/preprocessing/train_1GPU_MAE_PNP.py lastepo UNet_causal_5mn_atrous -lr 0.001 -bs 128 -ne 100\n",
        "-pr 20240816_exp69_CE_MSE_MAE_15 -ss 15  -lrc -miv -10 -comp -ste 330000 -sm 100  -mcl CE_MSE_MAE -ap 16 -rr -dbs -dbci\n",
        "\"\"\"\n",
        "\n",
        "# The previous command implies (see src/train_1GPU.py)\n",
        "arch = \"UNet_causal_5mn_atrous\"\n",
        "nchannels = 2\n",
        "nclasses = 3\n",
        "dilation=2\n",
        "atrous_rates=[6, 12, 18, 24, 30, 36, 42]\n",
        "additional_parameters = 16\n",
        "\n",
        "model = load_archi(arch, nchannels, nclasses, size=64, dilation=1,\n",
        "                   atrous_rates=atrous_rates, fixed_cumul=False,\n",
        "                   additional_parameters=additional_parameters)"
      ]
    },
    {
      "cell_type": "markdown",
      "metadata": {
        "id": "fhc5wkoij-op"
      },
      "source": [
        "# <font color='blue'> II) Model description </font>\n",
        "\n"
      ]
    },
    {
      "cell_type": "code",
      "execution_count": null,
      "metadata": {
        "id": "3ONv2RSqMxr6"
      },
      "outputs": [],
      "source": [
        "! pip install torchsummary\n",
        "from torchsummary import summary\n",
        "summary(model, (2, 10000))"
      ]
    },
    {
      "cell_type": "code",
      "execution_count": null,
      "metadata": {
        "id": "U_Nig4x6Ln-7"
      },
      "outputs": [],
      "source": [
        "# To see the computation graph :\n",
        "! pip install torchviz\n",
        "from torchviz import make_dot\n",
        "example_input = torch.rand(1, 2, 10000)\n",
        "output = model(example_input)\n",
        "dot = make_dot(output, params=dict(list(model.named_parameters()))).render(\"fcn_torchviz\", format=\"png\")\n",
        "from IPython.display import Image\n",
        "Image(filename='fcn_torchviz.png')"
      ]
    },
    {
      "cell_type": "markdown",
      "metadata": {
        "id": "xIA0-dRxkW05"
      },
      "source": [
        "# <font color='blue'> III) Memory usage, Inference time and FLOPs </font>"
      ]
    },
    {
      "cell_type": "code",
      "execution_count": 16,
      "metadata": {
        "id": "KBl-qUMDUFsx"
      },
      "outputs": [],
      "source": [
        "import torch\n",
        "import copy\n",
        "# Create a tensor of size [1, 10000, 2]\n",
        "rand_500min_time_step_15sec = torch.rand(1, 2, 500 * 4)"
      ]
    },
    {
      "cell_type": "code",
      "execution_count": null,
      "metadata": {
        "id": "ANDnmNAkUFsy"
      },
      "outputs": [],
      "source": [
        "from torch.profiler import profile, record_function, ProfilerActivity\n",
        "\n",
        "# Calculate memory usage\n",
        "with profile(activities=[ProfilerActivity.CPU], record_shapes=True) as prof:\n",
        "    with record_function(\"model_inference\"):\n",
        "        model(rand_500min_time_step_15sec)\n",
        "print(prof.key_averages().table(sort_by=\"cpu_time_total\", row_limit=10))"
      ]
    },
    {
      "cell_type": "code",
      "execution_count": null,
      "metadata": {
        "id": "YL_WEYxiUFsy"
      },
      "outputs": [],
      "source": [
        "# Inference time:\n",
        "import timeit\n",
        "def apply_model():\n",
        "    with torch.no_grad():  # Ensuring no gradients are calculated\n",
        "        model(rand_500min_time_step_15sec)\n",
        "\n",
        "# Timing the function over 10 runs and calculating the mean time\n",
        "times = timeit.repeat(apply_model, number=1, repeat=10)\n",
        "mean_time = sum(times) / len(times)\n",
        "\n",
        "print(f\"Average inference time over 10 runs: {mean_time:.4f} seconds\")"
      ]
    },
    {
      "cell_type": "code",
      "execution_count": null,
      "metadata": {
        "id": "BYLjk-mjUFsy"
      },
      "outputs": [],
      "source": [
        "# Inference FLOPs\n",
        "import torch\n",
        "import torchvision.models as models\n",
        "! pip install fvcore\n",
        "from fvcore.nn import FlopCountAnalysis\n",
        "\n",
        "# Define a model, e.g., ResNet\n",
        "model2 = models.resnet18()\n",
        "\n",
        "# Create a sample input tensor with the correct shape\n",
        "input2 = torch.randn(1, 3, 224, 224)\n",
        "\n",
        "# Perform FLOP count\n",
        "flops = FlopCountAnalysis(model2, input2)\n",
        "# flops = FlopCountAnalysis(model, rand_500min_time_step_15sec)\n",
        "\n",
        "# Print total FLOPs\n",
        "print(f\"Total FLOPs: {flops.total()}\")"
      ]
    },
    {
      "cell_type": "markdown",
      "metadata": {
        "id": "J3uqOgTikr9I"
      },
      "source": [
        "# <font color='blue'> IV) Causality and receptive field </font>"
      ]
    },
    {
      "cell_type": "code",
      "execution_count": null,
      "metadata": {
        "id": "0nfy2wEDUFsy"
      },
      "outputs": [],
      "source": [
        "def test_causality_and_receptive_field(model, input_tensor1, input_tensor2, pos):\n",
        "    # Assuming model has been modified as above and is in eval mode for testing\n",
        "    model.eval()\n",
        "    output = model(input_tensor1) - model(input_tensor2)\n",
        "\n",
        "    # Find the first and last non-zero outputs\n",
        "    non_zero_indices = (output[0,0,:] != 0).nonzero(as_tuple=True)\n",
        "    first_non_zero = non_zero_indices[0].min().item()\n",
        "    last_non_zero = non_zero_indices[0].max().item()\n",
        "\n",
        "    print(\"First non-zero output at index:\", first_non_zero)\n",
        "    print(\"Last non-zero output at index:\", last_non_zero)\n",
        "    print(\"length of receptive field:\",  last_non_zero - first_non_zero)\n",
        "    # Check causality\n",
        "    if first_non_zero < pos:\n",
        "        print(\"The model is not causal.\")\n",
        "    else:\n",
        "        print(\"The model is causal.\")\n",
        "\n",
        "    return output\n",
        "\n",
        "input_tensor1 = torch.rand(1, 2, 10000)\n",
        "input_tensor2 = copy.deepcopy(input_tensor1)\n",
        "\n",
        "# Set the 5000th position to 1 in both channels\n",
        "pos = 6000\n",
        "# pos = 6000\n",
        "input_tensor1[0, :, pos] = 10.\n",
        "\n",
        "\n",
        "output = test_causality_and_receptive_field(model, input_tensor1, input_tensor2, pos)\n",
        "\n",
        "# The mode is causal once every 5 minutes (1 time step = 15 sec)"
      ]
    }
  ],
  "metadata": {
    "colab": {
      "provenance": []
    },
    "kernelspec": {
      "display_name": "Python 3 (ipykernel)",
      "language": "python",
      "name": "python3"
    },
    "language_info": {
      "codemirror_mode": {
        "name": "ipython",
        "version": 3
      },
      "file_extension": ".py",
      "mimetype": "text/x-python",
      "name": "python",
      "nbconvert_exporter": "python",
      "pygments_lexer": "ipython3",
      "version": "3.9.15"
    }
  },
  "nbformat": 4,
  "nbformat_minor": 0
}
